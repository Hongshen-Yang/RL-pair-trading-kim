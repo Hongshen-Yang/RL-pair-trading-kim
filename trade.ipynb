{
 "cells": [
  {
   "cell_type": "code",
   "execution_count": 1,
   "metadata": {},
   "outputs": [],
   "source": [
    "import math\n",
    "from tqdm import trange\n",
    "from env_kim import RL_Kim_TradeEnv\n",
    "from stable_baselines3 import PPO, A2C, DQN\n",
    "from datetime import datetime, timedelta\n",
    "from read2df import read2df, unify_dfs\n",
    "from stable_baselines3.common.env_checker import check_env"
   ]
  },
  {
   "cell_type": "markdown",
   "metadata": {},
   "source": [
    "# Prepare Dataset in OHLCVT format"
   ]
  },
  {
   "cell_type": "code",
   "execution_count": 2,
   "metadata": {},
   "outputs": [
    {
     "data": {
      "text/html": [
       "<div>\n",
       "<style scoped>\n",
       "    .dataframe tbody tr th:only-of-type {\n",
       "        vertical-align: middle;\n",
       "    }\n",
       "\n",
       "    .dataframe tbody tr th {\n",
       "        vertical-align: top;\n",
       "    }\n",
       "\n",
       "    .dataframe thead th {\n",
       "        text-align: right;\n",
       "    }\n",
       "</style>\n",
       "<table border=\"1\" class=\"dataframe\">\n",
       "  <thead>\n",
       "    <tr style=\"text-align: right;\">\n",
       "      <th></th>\n",
       "      <th>time</th>\n",
       "      <th>close0</th>\n",
       "      <th>itvl</th>\n",
       "      <th>datetime</th>\n",
       "      <th>close1</th>\n",
       "      <th>spread</th>\n",
       "      <th>zscore</th>\n",
       "    </tr>\n",
       "  </thead>\n",
       "  <tbody>\n",
       "    <tr>\n",
       "      <th>0</th>\n",
       "      <td>1672531259999</td>\n",
       "      <td>0.000065</td>\n",
       "      <td>1m</td>\n",
       "      <td>2023-01-01 00:00:59.999</td>\n",
       "      <td>0.000073</td>\n",
       "      <td>-10.824649</td>\n",
       "      <td>0.0</td>\n",
       "    </tr>\n",
       "    <tr>\n",
       "      <th>1</th>\n",
       "      <td>1672531319999</td>\n",
       "      <td>0.000065</td>\n",
       "      <td>1m</td>\n",
       "      <td>2023-01-01 00:01:59.999</td>\n",
       "      <td>0.000073</td>\n",
       "      <td>-10.824645</td>\n",
       "      <td>0.0</td>\n",
       "    </tr>\n",
       "    <tr>\n",
       "      <th>2</th>\n",
       "      <td>1672531379999</td>\n",
       "      <td>0.000065</td>\n",
       "      <td>1m</td>\n",
       "      <td>2023-01-01 00:02:59.999</td>\n",
       "      <td>0.000073</td>\n",
       "      <td>-10.824643</td>\n",
       "      <td>0.0</td>\n",
       "    </tr>\n",
       "    <tr>\n",
       "      <th>3</th>\n",
       "      <td>1672531439999</td>\n",
       "      <td>0.000065</td>\n",
       "      <td>1m</td>\n",
       "      <td>2023-01-01 00:03:59.999</td>\n",
       "      <td>0.000073</td>\n",
       "      <td>-10.823945</td>\n",
       "      <td>0.0</td>\n",
       "    </tr>\n",
       "    <tr>\n",
       "      <th>4</th>\n",
       "      <td>1672531499999</td>\n",
       "      <td>0.000065</td>\n",
       "      <td>1m</td>\n",
       "      <td>2023-01-01 00:04:59.999</td>\n",
       "      <td>0.000073</td>\n",
       "      <td>-10.823701</td>\n",
       "      <td>0.0</td>\n",
       "    </tr>\n",
       "    <tr>\n",
       "      <th>5</th>\n",
       "      <td>1672531559999</td>\n",
       "      <td>0.000065</td>\n",
       "      <td>1m</td>\n",
       "      <td>2023-01-01 00:05:59.999</td>\n",
       "      <td>0.000073</td>\n",
       "      <td>-10.823703</td>\n",
       "      <td>0.0</td>\n",
       "    </tr>\n",
       "    <tr>\n",
       "      <th>6</th>\n",
       "      <td>1672531619999</td>\n",
       "      <td>0.000065</td>\n",
       "      <td>1m</td>\n",
       "      <td>2023-01-01 00:06:59.999</td>\n",
       "      <td>0.000073</td>\n",
       "      <td>-10.823810</td>\n",
       "      <td>0.0</td>\n",
       "    </tr>\n",
       "    <tr>\n",
       "      <th>7</th>\n",
       "      <td>1672531679999</td>\n",
       "      <td>0.000065</td>\n",
       "      <td>1m</td>\n",
       "      <td>2023-01-01 00:07:59.999</td>\n",
       "      <td>0.000073</td>\n",
       "      <td>-10.823811</td>\n",
       "      <td>0.0</td>\n",
       "    </tr>\n",
       "    <tr>\n",
       "      <th>8</th>\n",
       "      <td>1672531739999</td>\n",
       "      <td>0.000065</td>\n",
       "      <td>1m</td>\n",
       "      <td>2023-01-01 00:08:59.999</td>\n",
       "      <td>0.000073</td>\n",
       "      <td>-10.823801</td>\n",
       "      <td>0.0</td>\n",
       "    </tr>\n",
       "    <tr>\n",
       "      <th>9</th>\n",
       "      <td>1672531799999</td>\n",
       "      <td>0.000065</td>\n",
       "      <td>1m</td>\n",
       "      <td>2023-01-01 00:09:59.999</td>\n",
       "      <td>0.000073</td>\n",
       "      <td>-10.823693</td>\n",
       "      <td>0.0</td>\n",
       "    </tr>\n",
       "  </tbody>\n",
       "</table>\n",
       "</div>"
      ],
      "text/plain": [
       "            time    close0 itvl                datetime    close1     spread  \\\n",
       "0  1672531259999  0.000065   1m 2023-01-01 00:00:59.999  0.000073 -10.824649   \n",
       "1  1672531319999  0.000065   1m 2023-01-01 00:01:59.999  0.000073 -10.824645   \n",
       "2  1672531379999  0.000065   1m 2023-01-01 00:02:59.999  0.000073 -10.824643   \n",
       "3  1672531439999  0.000065   1m 2023-01-01 00:03:59.999  0.000073 -10.823945   \n",
       "4  1672531499999  0.000065   1m 2023-01-01 00:04:59.999  0.000073 -10.823701   \n",
       "5  1672531559999  0.000065   1m 2023-01-01 00:05:59.999  0.000073 -10.823703   \n",
       "6  1672531619999  0.000065   1m 2023-01-01 00:06:59.999  0.000073 -10.823810   \n",
       "7  1672531679999  0.000065   1m 2023-01-01 00:07:59.999  0.000073 -10.823811   \n",
       "8  1672531739999  0.000065   1m 2023-01-01 00:08:59.999  0.000073 -10.823801   \n",
       "9  1672531799999  0.000065   1m 2023-01-01 00:09:59.999  0.000073 -10.823693   \n",
       "\n",
       "   zscore  \n",
       "0     0.0  \n",
       "1     0.0  \n",
       "2     0.0  \n",
       "3     0.0  \n",
       "4     0.0  \n",
       "5     0.0  \n",
       "6     0.0  \n",
       "7     0.0  \n",
       "8     0.0  \n",
       "9     0.0  "
      ]
     },
     "execution_count": 2,
     "metadata": {},
     "output_type": "execute_result"
    }
   ],
   "source": [
    "dfs = read2df(symbols=['BTCEUR', 'BTCGBP'], freqs={'1m': 1}, marketType='spot')\n",
    "tics, df = unify_dfs(dfs, symbols=['BTCEUR', 'BTCGBP'], period=30) # The period here is the formation period\n",
    "\n",
    "df.describe()\n",
    "df.head(10)"
   ]
  },
  {
   "cell_type": "markdown",
   "metadata": {},
   "source": [
    "# Check the validity of the Environment\n",
    "And test with random generated actions"
   ]
  },
  {
   "cell_type": "code",
   "execution_count": 3,
   "metadata": {},
   "outputs": [],
   "source": [
    "env = RL_Kim_TradeEnv(df)\n",
    "check_env(env)\n",
    "for i in range(3):\n",
    "    obs, rewards, terminated, truncated, info = env.step(action=env.action_space.sample())\n",
    "    # env.render()"
   ]
  },
  {
   "cell_type": "markdown",
   "metadata": {},
   "source": [
    "# Train with models"
   ]
  },
  {
   "cell_type": "code",
   "execution_count": 4,
   "metadata": {},
   "outputs": [],
   "source": [
    "date_format = '%Y-%m-%d'\n",
    "start_date = '2023-10-01'\n",
    "trade_date = '2023-12-01'\n",
    "end_date = '2023-12-31'\n",
    "\n",
    "train = df[(df['datetime'] >= datetime.strptime(start_date, date_format)) & (df['datetime'] < datetime.strptime(trade_date, date_format))]\n",
    "test = df[(df['datetime'] >= datetime.strptime(trade_date, date_format)) & (df['datetime'] < datetime.strptime(end_date, date_format))]\n",
    "\n",
    "env_train = RL_Kim_TradeEnv(train)\n",
    "env_test = RL_Kim_TradeEnv(test)\n",
    "\n",
    "max_train_len = math.floor(len(train)/15)\n",
    "max_test_len = math.floor(len(test)/15)"
   ]
  },
  {
   "cell_type": "code",
   "execution_count": 5,
   "metadata": {},
   "outputs": [
    {
     "data": {
      "application/vnd.jupyter.widget-view+json": {
       "model_id": "ad9be142c45747d789380100da7c54da",
       "version_major": 2,
       "version_minor": 0
      },
      "text/plain": [
       "Output()"
      ]
     },
     "metadata": {},
     "output_type": "display_data"
    },
    {
     "data": {
      "text/html": [
       "<pre style=\"white-space:pre;overflow-x:auto;line-height:normal;font-family:Menlo,'DejaVu Sans Mono',consolas,'Courier New',monospace\"></pre>\n"
      ],
      "text/plain": []
     },
     "metadata": {},
     "output_type": "display_data"
    },
    {
     "data": {
      "text/html": [
       "<pre style=\"white-space:pre;overflow-x:auto;line-height:normal;font-family:Menlo,'DejaVu Sans Mono',consolas,'Courier New',monospace\">\n",
       "</pre>\n"
      ],
      "text/plain": [
       "\n"
      ]
     },
     "metadata": {},
     "output_type": "display_data"
    },
    {
     "data": {
      "text/plain": [
       "<stable_baselines3.ppo.ppo.PPO at 0x2318dc1ac70>"
      ]
     },
     "execution_count": 5,
     "metadata": {},
     "output_type": "execute_result"
    }
   ],
   "source": [
    "env_train.reset()\n",
    "model_ppo = PPO(\"MlpPolicy\", env_train, gamma=1, batch_size=256)\n",
    "model_ppo.learn(total_timesteps=max_train_len, progress_bar=True)"
   ]
  },
  {
   "cell_type": "code",
   "execution_count": 6,
   "metadata": {},
   "outputs": [
    {
     "data": {
      "application/vnd.jupyter.widget-view+json": {
       "model_id": "519e61e906494c599ffbfe1bb468d13f",
       "version_major": 2,
       "version_minor": 0
      },
      "text/plain": [
       "Output()"
      ]
     },
     "metadata": {},
     "output_type": "display_data"
    },
    {
     "data": {
      "text/html": [
       "<pre style=\"white-space:pre;overflow-x:auto;line-height:normal;font-family:Menlo,'DejaVu Sans Mono',consolas,'Courier New',monospace\"></pre>\n"
      ],
      "text/plain": []
     },
     "metadata": {},
     "output_type": "display_data"
    },
    {
     "data": {
      "text/html": [
       "<pre style=\"white-space:pre;overflow-x:auto;line-height:normal;font-family:Menlo,'DejaVu Sans Mono',consolas,'Courier New',monospace\">\n",
       "</pre>\n"
      ],
      "text/plain": [
       "\n"
      ]
     },
     "metadata": {},
     "output_type": "display_data"
    },
    {
     "data": {
      "text/plain": [
       "<stable_baselines3.a2c.a2c.A2C at 0x231aaeb7550>"
      ]
     },
     "execution_count": 6,
     "metadata": {},
     "output_type": "execute_result"
    }
   ],
   "source": [
    "env_train.reset()\n",
    "model_a2c = A2C(\"MlpPolicy\", env_train, gamma=1)\n",
    "model_a2c.learn(total_timesteps=max_train_len, progress_bar=True)"
   ]
  },
  {
   "cell_type": "code",
   "execution_count": 7,
   "metadata": {},
   "outputs": [
    {
     "data": {
      "application/vnd.jupyter.widget-view+json": {
       "model_id": "c54e84621c14498e939e82a40433f7d5",
       "version_major": 2,
       "version_minor": 0
      },
      "text/plain": [
       "Output()"
      ]
     },
     "metadata": {},
     "output_type": "display_data"
    },
    {
     "data": {
      "text/html": [
       "<pre style=\"white-space:pre;overflow-x:auto;line-height:normal;font-family:Menlo,'DejaVu Sans Mono',consolas,'Courier New',monospace\"></pre>\n"
      ],
      "text/plain": []
     },
     "metadata": {},
     "output_type": "display_data"
    },
    {
     "data": {
      "text/html": [
       "<pre style=\"white-space:pre;overflow-x:auto;line-height:normal;font-family:Menlo,'DejaVu Sans Mono',consolas,'Courier New',monospace\">\n",
       "</pre>\n"
      ],
      "text/plain": [
       "\n"
      ]
     },
     "metadata": {},
     "output_type": "display_data"
    },
    {
     "data": {
      "text/plain": [
       "<stable_baselines3.dqn.dqn.DQN at 0x2318d8b52e0>"
      ]
     },
     "execution_count": 7,
     "metadata": {},
     "output_type": "execute_result"
    }
   ],
   "source": [
    "env_train.reset()\n",
    "model_dqn = DQN(\"MlpPolicy\", env_train, gamma=1, batch_size=256)\n",
    "model_dqn.learn(total_timesteps=max_train_len, progress_bar=True)"
   ]
  },
  {
   "cell_type": "markdown",
   "metadata": {},
   "source": [
    "# Out-of-sample experiment"
   ]
  },
  {
   "cell_type": "code",
   "execution_count": 8,
   "metadata": {},
   "outputs": [
    {
     "name": "stderr",
     "output_type": "stream",
     "text": [
      "  2%|▏         | 41/2700 [00:00<00:12, 206.69it/s]"
     ]
    },
    {
     "name": "stdout",
     "output_type": "stream",
     "text": [
      "networth: 1.0007\n"
     ]
    },
    {
     "name": "stderr",
     "output_type": "stream",
     "text": [
      " 11%|█▏        | 310/2700 [00:01<00:09, 244.48it/s]"
     ]
    },
    {
     "name": "stdout",
     "output_type": "stream",
     "text": [
      "networth: 1.0236\n"
     ]
    },
    {
     "name": "stderr",
     "output_type": "stream",
     "text": [
      " 22%|██▏       | 590/2700 [00:02<00:08, 259.19it/s]"
     ]
    },
    {
     "name": "stdout",
     "output_type": "stream",
     "text": [
      "networth: 1.0329\n"
     ]
    },
    {
     "name": "stderr",
     "output_type": "stream",
     "text": [
      " 32%|███▏      | 864/2700 [00:03<00:06, 263.20it/s]"
     ]
    },
    {
     "name": "stdout",
     "output_type": "stream",
     "text": [
      "networth: 1.0103\n"
     ]
    },
    {
     "name": "stderr",
     "output_type": "stream",
     "text": [
      " 42%|████▏     | 1127/2700 [00:04<00:06, 244.47it/s]"
     ]
    },
    {
     "name": "stdout",
     "output_type": "stream",
     "text": [
      "networth: 0.9927\n"
     ]
    },
    {
     "name": "stderr",
     "output_type": "stream",
     "text": [
      " 51%|█████▏    | 1389/2700 [00:05<00:04, 296.61it/s]"
     ]
    },
    {
     "name": "stdout",
     "output_type": "stream",
     "text": [
      "networth: 0.9988\n"
     ]
    },
    {
     "name": "stderr",
     "output_type": "stream",
     "text": [
      " 61%|██████▏   | 1656/2700 [00:06<00:03, 268.67it/s]"
     ]
    },
    {
     "name": "stdout",
     "output_type": "stream",
     "text": [
      "networth: 0.957\n"
     ]
    },
    {
     "name": "stderr",
     "output_type": "stream",
     "text": [
      " 72%|███████▏  | 1954/2700 [00:07<00:02, 337.05it/s]"
     ]
    },
    {
     "name": "stdout",
     "output_type": "stream",
     "text": [
      "networth: 0.8505\n"
     ]
    },
    {
     "name": "stderr",
     "output_type": "stream",
     "text": [
      " 81%|████████▏ | 2195/2700 [00:08<00:01, 314.26it/s]"
     ]
    },
    {
     "name": "stdout",
     "output_type": "stream",
     "text": [
      "networth: 0.7647\n"
     ]
    },
    {
     "name": "stderr",
     "output_type": "stream",
     "text": [
      " 91%|█████████ | 2458/2700 [00:09<00:00, 380.13it/s]"
     ]
    },
    {
     "name": "stdout",
     "output_type": "stream",
     "text": [
      "networth: 0.6123\n"
     ]
    },
    {
     "name": "stderr",
     "output_type": "stream",
     "text": [
      "100%|██████████| 2700/2700 [00:09<00:00, 275.45it/s]\n"
     ]
    }
   ],
   "source": [
    "env_test.reset()\n",
    "\n",
    "for i in trange(max_test_len):\n",
    "    action, _states = model_ppo.predict(obs)\n",
    "    obs, rewards, terminated, truncated, info = env_test.step(action)\n",
    "    if i%int(max_test_len/10)==0:\n",
    "        env_test.render()"
   ]
  },
  {
   "cell_type": "code",
   "execution_count": 9,
   "metadata": {},
   "outputs": [
    {
     "name": "stderr",
     "output_type": "stream",
     "text": [
      "  2%|▏         | 62/2700 [00:00<00:08, 309.82it/s]"
     ]
    },
    {
     "name": "stdout",
     "output_type": "stream",
     "text": [
      "networth: 1\n"
     ]
    },
    {
     "name": "stderr",
     "output_type": "stream",
     "text": [
      " 12%|█▏        | 327/2700 [00:01<00:08, 281.68it/s]"
     ]
    },
    {
     "name": "stdout",
     "output_type": "stream",
     "text": [
      "networth: 1.0086\n"
     ]
    },
    {
     "name": "stderr",
     "output_type": "stream",
     "text": [
      " 21%|██▏       | 580/2700 [00:01<00:07, 301.54it/s]"
     ]
    },
    {
     "name": "stdout",
     "output_type": "stream",
     "text": [
      "networth: 1.0187\n"
     ]
    },
    {
     "name": "stderr",
     "output_type": "stream",
     "text": [
      " 32%|███▏      | 853/2700 [00:02<00:06, 269.83it/s]"
     ]
    },
    {
     "name": "stdout",
     "output_type": "stream",
     "text": [
      "networth: 1.0471\n"
     ]
    },
    {
     "name": "stderr",
     "output_type": "stream",
     "text": [
      " 41%|████▏     | 1118/2700 [00:03<00:05, 271.97it/s]"
     ]
    },
    {
     "name": "stdout",
     "output_type": "stream",
     "text": [
      "networth: 1.0278\n"
     ]
    },
    {
     "name": "stderr",
     "output_type": "stream",
     "text": [
      " 51%|█████     | 1373/2700 [00:04<00:05, 253.79it/s]"
     ]
    },
    {
     "name": "stdout",
     "output_type": "stream",
     "text": [
      "networth: 1.0314\n"
     ]
    },
    {
     "name": "stderr",
     "output_type": "stream",
     "text": [
      " 62%|██████▏   | 1672/2700 [00:06<00:04, 235.35it/s]"
     ]
    },
    {
     "name": "stdout",
     "output_type": "stream",
     "text": [
      "networth: 1.0117\n"
     ]
    },
    {
     "name": "stderr",
     "output_type": "stream",
     "text": [
      " 71%|███████   | 1916/2700 [00:07<00:03, 219.68it/s]"
     ]
    },
    {
     "name": "stdout",
     "output_type": "stream",
     "text": [
      "networth: 0.9432\n"
     ]
    },
    {
     "name": "stderr",
     "output_type": "stream",
     "text": [
      " 81%|████████▏ | 2197/2700 [00:08<00:02, 215.43it/s]"
     ]
    },
    {
     "name": "stdout",
     "output_type": "stream",
     "text": [
      "networth: 0.8701\n"
     ]
    },
    {
     "name": "stderr",
     "output_type": "stream",
     "text": [
      " 91%|█████████▏| 2467/2700 [00:09<00:01, 227.70it/s]"
     ]
    },
    {
     "name": "stdout",
     "output_type": "stream",
     "text": [
      "networth: 0.7467\n"
     ]
    },
    {
     "name": "stderr",
     "output_type": "stream",
     "text": [
      "100%|██████████| 2700/2700 [00:10<00:00, 248.04it/s]\n"
     ]
    }
   ],
   "source": [
    "env_test.reset()\n",
    "\n",
    "for i in trange(max_test_len):\n",
    "    action, _states = model_a2c.predict(obs)\n",
    "    obs, rewards, terminated, truncated, info = env_test.step(action)\n",
    "    if i%int(max_test_len/10)==0:\n",
    "        env_test.render()"
   ]
  },
  {
   "cell_type": "code",
   "execution_count": 10,
   "metadata": {},
   "outputs": [
    {
     "name": "stderr",
     "output_type": "stream",
     "text": [
      "  3%|▎         | 68/2700 [00:00<00:07, 341.63it/s]"
     ]
    },
    {
     "name": "stdout",
     "output_type": "stream",
     "text": [
      "networth: 1.0007\n"
     ]
    },
    {
     "name": "stderr",
     "output_type": "stream",
     "text": [
      " 12%|█▏        | 334/2700 [00:00<00:07, 328.99it/s]"
     ]
    },
    {
     "name": "stdout",
     "output_type": "stream",
     "text": [
      "networth: 1.0325\n"
     ]
    },
    {
     "name": "stderr",
     "output_type": "stream",
     "text": [
      " 23%|██▎       | 610/2700 [00:01<00:06, 309.21it/s]"
     ]
    },
    {
     "name": "stdout",
     "output_type": "stream",
     "text": [
      "networth: 1.0479\n"
     ]
    },
    {
     "name": "stderr",
     "output_type": "stream",
     "text": [
      " 32%|███▏      | 851/2700 [00:02<00:05, 326.41it/s]"
     ]
    },
    {
     "name": "stdout",
     "output_type": "stream",
     "text": [
      "networth: 1.0095\n"
     ]
    },
    {
     "name": "stderr",
     "output_type": "stream",
     "text": [
      " 42%|████▏     | 1121/2700 [00:03<00:04, 324.75it/s]"
     ]
    },
    {
     "name": "stdout",
     "output_type": "stream",
     "text": [
      "networth: 0.9775\n"
     ]
    },
    {
     "name": "stderr",
     "output_type": "stream",
     "text": [
      " 52%|█████▏    | 1398/2700 [00:04<00:03, 337.38it/s]"
     ]
    },
    {
     "name": "stdout",
     "output_type": "stream",
     "text": [
      "networth: 0.9842\n"
     ]
    },
    {
     "name": "stderr",
     "output_type": "stream",
     "text": [
      " 62%|██████▏   | 1668/2700 [00:05<00:03, 292.00it/s]"
     ]
    },
    {
     "name": "stdout",
     "output_type": "stream",
     "text": [
      "networth: 0.9313\n"
     ]
    },
    {
     "name": "stderr",
     "output_type": "stream",
     "text": [
      " 72%|███████▏  | 1939/2700 [00:06<00:02, 317.83it/s]"
     ]
    },
    {
     "name": "stdout",
     "output_type": "stream",
     "text": [
      "networth: 0.8393\n"
     ]
    },
    {
     "name": "stderr",
     "output_type": "stream",
     "text": [
      " 81%|████████  | 2188/2700 [00:06<00:01, 353.57it/s]"
     ]
    },
    {
     "name": "stdout",
     "output_type": "stream",
     "text": [
      "networth: 0.7712\n"
     ]
    },
    {
     "name": "stderr",
     "output_type": "stream",
     "text": [
      " 93%|█████████▎| 2503/2700 [00:07<00:00, 347.84it/s]"
     ]
    },
    {
     "name": "stdout",
     "output_type": "stream",
     "text": [
      "networth: 0.6524\n"
     ]
    },
    {
     "name": "stderr",
     "output_type": "stream",
     "text": [
      "100%|██████████| 2700/2700 [00:08<00:00, 323.94it/s]\n"
     ]
    }
   ],
   "source": [
    "env_test.reset()\n",
    "\n",
    "for i in trange(max_test_len):\n",
    "    action, _states = model_dqn.predict(obs)\n",
    "    obs, rewards, terminated, truncated, info = env_test.step(action)\n",
    "    if i%int(max_test_len/10)==0:\n",
    "        env_test.render()"
   ]
  },
  {
   "cell_type": "markdown",
   "metadata": {},
   "source": []
  }
 ],
 "metadata": {
  "kernelspec": {
   "display_name": "Python 3 (ipykernel)",
   "language": "python",
   "name": "python3"
  },
  "language_info": {
   "codemirror_mode": {
    "name": "ipython",
    "version": 3
   },
   "file_extension": ".py",
   "mimetype": "text/x-python",
   "name": "python",
   "nbconvert_exporter": "python",
   "pygments_lexer": "ipython3",
   "version": "3.8.18"
  }
 },
 "nbformat": 4,
 "nbformat_minor": 4
}
