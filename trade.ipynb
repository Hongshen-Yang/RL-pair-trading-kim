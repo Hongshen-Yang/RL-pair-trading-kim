{
 "cells": [
  {
   "cell_type": "code",
   "execution_count": 1,
   "metadata": {},
   "outputs": [],
   "source": [
    "from env_kim import RL_Kim_TradeEnv\n",
    "from read2df import read2df, unify_dfs\n",
    "from stable_baselines3.common.env_checker import check_env"
   ]
  },
  {
   "cell_type": "code",
   "execution_count": 2,
   "metadata": {},
   "outputs": [],
   "source": [
    "dfs = read2df(symbols=['BTCEUR', 'BTCGBP'], freqs={'1m': 1}, marketType='spot')\n",
    "tics, df = unify_dfs(dfs, symbols=['BTCEUR', 'BTCGBP'], period=15)"
   ]
  },
  {
   "cell_type": "code",
   "execution_count": 3,
   "metadata": {},
   "outputs": [],
   "source": [
    "env = RL_Kim_TradeEnv(df)\n",
    "check_env(env)"
   ]
  },
  {
   "cell_type": "code",
   "execution_count": 11,
   "metadata": {},
   "outputs": [
    {
     "data": {
      "text/plain": [
       "count    5.213790e+05\n",
       "mean    -1.181005e+03\n",
       "std      2.434387e+05\n",
       "min     -4.067020e+07\n",
       "25%     -1.079697e+00\n",
       "50%     -3.216404e-02\n",
       "75%      1.045571e+00\n",
       "max      2.990617e+07\n",
       "Name: zscore, dtype: float64"
      ]
     },
     "execution_count": 11,
     "metadata": {},
     "output_type": "execute_result"
    }
   ],
   "source": []
  },
  {
   "cell_type": "code",
   "execution_count": null,
   "metadata": {},
   "outputs": [],
   "source": []
  }
 ],
 "metadata": {
  "kernelspec": {
   "display_name": "btrl",
   "language": "python",
   "name": "python3"
  },
  "language_info": {
   "codemirror_mode": {
    "name": "ipython",
    "version": 3
   },
   "file_extension": ".py",
   "mimetype": "text/x-python",
   "name": "python",
   "nbconvert_exporter": "python",
   "pygments_lexer": "ipython3",
   "version": "3.8.18"
  }
 },
 "nbformat": 4,
 "nbformat_minor": 2
}
